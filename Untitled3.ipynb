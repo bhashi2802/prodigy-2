{
  "nbformat": 4,
  "nbformat_minor": 0,
  "metadata": {
    "colab": {
      "provenance": [],
      "authorship_tag": "ABX9TyPfOv1C7Kj6DLXVcqypeuG/",
      "include_colab_link": true
    },
    "kernelspec": {
      "name": "python3",
      "display_name": "Python 3"
    },
    "language_info": {
      "name": "python"
    }
  },
  "cells": [
    {
      "cell_type": "markdown",
      "metadata": {
        "id": "view-in-github",
        "colab_type": "text"
      },
      "source": [
        "<a href=\"https://colab.research.google.com/github/bhashi2802/prodigy-2/blob/main/Untitled3.ipynb\" target=\"_parent\"><img src=\"https://colab.research.google.com/assets/colab-badge.svg\" alt=\"Open In Colab\"/></a>"
      ]
    },
    {
      "cell_type": "code",
      "execution_count": null,
      "metadata": {
        "id": "Pv4OF69_ScKz"
      },
      "outputs": [],
      "source": [
        "{\n",
        "  \"nbformat\": 4,\n",
        "  \"nbformat_minor\": 0,\n",
        "  \"metadata\": {\n",
        "    \"colab\": {\n",
        "      \"provenance\": [],\n",
        "      \"authorship_tag\": \"ABX9TyM2ohW/A2+C3sjF/aZt8YyP\",\n",
        "      \"include_colab_link\": true\n",
        "    },\n",
        "    \"kernelspec\": {\n",
        "      \"name\": \"python3\",\n",
        "      \"display_name\": \"Python 3\"\n",
        "    },\n",
        "    \"language_info\": {\n",
        "      \"name\": \"python\"\n",
        "    }\n",
        "  },\n",
        "  \"cells\": [\n",
        "    {\n",
        "      \"cell_type\": \"markdown\",\n",
        "      \"metadata\": {\n",
        "        \"id\": \"view-in-github\",\n",
        "        \"colab_type\": \"text\"\n",
        "      },\n",
        "      \"source\": [\n",
        "        \"<a href=\\\"https://colab.research.google.com/github/bhashi2802/prodigy-info-tech/blob/main/task_2.ipynb\\\" target=\\\"_parent\\\"><img src=\\\"https://colab.research.google.com/assets/colab-badge.svg\\\" alt=\\\"Open In Colab\\\"/></a>\"\n",
        "      ]\n",
        "    },\n",
        "    {\n",
        "      \"cell_type\": \"code\",\n",
        "      \"execution_count\": null,\n",
        "      \"metadata\": {\n",
        "        \"id\": \"cZL9QnHuLQq0\"\n",
        "      },\n",
        "      \"outputs\": [],\n",
        "      \"source\": [\n",
        "        \"from PIL import Image\\n\",\n",
        "        \"\\n\",\n",
        "        \"def encrypt_image(input_path, output_path, key):\\n\",\n",
        "        \"    img = Image.open(input_path)\\n\",\n",
        "        \"    pixels = img.load()\\n\",\n",
        "        \"\\n\",\n",
        "        \"    width, height = img.size\\n\",\n",
        "        \"\\n\",\n",
        "        \"    for i in range(width):\\n\",\n",
        "        \"        for j in range(height):\\n\",\n",
        "        \"            r, g, b = pixels[i, j]\\n\",\n",
        "        \"\\n\",\n",
        "        \"            # swapping red and blue channels\\n\",\n",
        "        \"            encrypted_pixel = (b, g, r)\\n\",\n",
        "        \"\\n\",\n",
        "        \"            pixels[i, j] = encrypted_pixel\\n\",\n",
        "        \"\\n\",\n",
        "        \"    img.save(output_path)\\n\",\n",
        "        \"    print(\\\"Image encrypted successfully!\\\")\\n\",\n",
        "        \"\\n\",\n",
        "        \"def decrypt_image(input_path, output_path, key):\\n\",\n",
        "        \"    img = Image.open(input_path)\\n\",\n",
        "        \"    pixels = img.load()\\n\",\n",
        "        \"\\n\",\n",
        "        \"    width, height = img.size\\n\",\n",
        "        \"\\n\",\n",
        "        \"    for i in range(width):\\n\",\n",
        "        \"        for j in range(height):\\n\",\n",
        "        \"            r, g, b = pixels[i, j]\\n\",\n",
        "        \"\\n\",\n",
        "        \"            # swapping red and blue channels back\\n\",\n",
        "        \"            decrypted_pixel = (b, g, r)\\n\",\n",
        "        \"\\n\",\n",
        "        \"            pixels[i, j] = decrypted_pixel\\n\",\n",
        "        \"\\n\",\n",
        "        \"    img.save(output_path)\\n\",\n",
        "        \"    print(\\\"Image decrypted successfully!\\\")\\n\",\n",
        "        \"\\n\",\n",
        "        \" # image path\\n\",\n",
        "        \"input_image = r\\\"C:\\\\Users\\\\abu76\\\\Desktop\\\\Internship-01\\\\Task-02\\\\input.jpg\\\"\\n\",\n",
        "        \"encrypted_image = r\\\"C:\\\\Users\\\\abu76\\\\Desktop\\\\Internship-01\\\\Task-02\\\\decrypted_image.jpg\\\"\\n\",\n",
        "        \"decrypted_image = r\\\"C:\\\\Users\\\\abu76\\\\Desktop\\\\Internship-01\\\\Task-02\\\\encrypted_image.jpg\\\"\\n\",\n",
        "        \"\\n\",\n",
        "        \"\\n\",\n",
        "        \"# Encrypt the image\\n\",\n",
        "        \"encrypt_image(input_image, encrypted_image, key=None)\\n\",\n",
        "        \"\\n\",\n",
        "        \"# Decrypt the image\\n\",\n",
        "        \"decrypt_image(encrypted_image, decrypted_image, key=None)\"\n",
        "      ]\n",
        "    }\n",
        "  ]\n",
        "}"
      ]
    }
  ]
}